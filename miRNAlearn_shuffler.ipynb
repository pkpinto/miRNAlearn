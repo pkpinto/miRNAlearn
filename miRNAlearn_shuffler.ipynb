{
 "metadata": {
  "name": "",
  "signature": "sha256:e4e9b95ebdd30c285eb4268d34f39387b1c25b8acfd53d608380caf0ce72cd6e"
 },
 "nbformat": 3,
 "nbformat_minor": 0,
 "worksheets": [
  {
   "cells": [
    {
     "cell_type": "code",
     "collapsed": false,
     "input": [
      "from miRNAlearnIO import fasta_iter\n",
      "mirnas = [s for t,s in fasta_iter('examples/csec_mirbase.fa')]\n",
      "print(len(mirnas))"
     ],
     "language": "python",
     "metadata": {},
     "outputs": [
      {
       "output_type": "stream",
       "stream": "stdout",
       "text": [
        "320\n"
       ]
      }
     ],
     "prompt_number": 1
    },
    {
     "cell_type": "code",
     "collapsed": false,
     "input": [
      "!seq_shuffler/altschulEriksonDinuclShuffle.py"
     ],
     "language": "python",
     "metadata": {},
     "outputs": [
      {
       "output_type": "stream",
       "stream": "stdout",
       "text": [
        "Usage: %s RNAsequence\r\n"
       ]
      }
     ],
     "prompt_number": 2
    },
    {
     "cell_type": "code",
     "collapsed": false,
     "input": [
      "shuffled = list()\n",
      "for rna in mirnas:\n",
      "    seq = rna.replace('T', 'U').replace('t', 'u')\n",
      "    shuffled_seq = !seq_shuffler/altschulEriksonDinuclShuffle.py $seq\n",
      "    shuffled.append(shuffled_seq[0])"
     ],
     "language": "python",
     "metadata": {},
     "outputs": [],
     "prompt_number": 3
    },
    {
     "cell_type": "code",
     "collapsed": false,
     "input": [
      "print(len(shuffled))"
     ],
     "language": "python",
     "metadata": {},
     "outputs": [
      {
       "output_type": "stream",
       "stream": "stdout",
       "text": [
        "320\n"
       ]
      }
     ],
     "prompt_number": 4
    },
    {
     "cell_type": "code",
     "collapsed": false,
     "input": [
      "labels = [t for t,s in fasta_iter('examples/csec_mirbase.fa')]\n",
      "\n",
      "with open('examples/csec_mirbase_shuffled.fa', 'w') as of:\n",
      "    for i,seq in enumerate(shuffled):\n",
      "        of.write('> shuffled|' + labels[i] + '\\n')\n",
      "        of.write(seq + '\\n')"
     ],
     "language": "python",
     "metadata": {},
     "outputs": [],
     "prompt_number": 5
    },
    {
     "cell_type": "code",
     "collapsed": false,
     "input": [
      "!wc -l examples/csec_mirbase_shuffled.fa"
     ],
     "language": "python",
     "metadata": {},
     "outputs": [
      {
       "output_type": "stream",
       "stream": "stdout",
       "text": [
        "     640 examples/csec_mirbase_shuffled.fa\r\n"
       ]
      }
     ],
     "prompt_number": 7
    },
    {
     "cell_type": "code",
     "collapsed": false,
     "input": [],
     "language": "python",
     "metadata": {},
     "outputs": []
    }
   ],
   "metadata": {}
  }
 ]
}